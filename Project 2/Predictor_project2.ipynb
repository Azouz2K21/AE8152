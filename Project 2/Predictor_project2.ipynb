{
 "cells": [
  {
   "cell_type": "code",
   "execution_count": null,
   "metadata": {},
   "outputs": [],
   "source": [
    "import cv2\n",
    "from keras.models import load_model\n",
    "from keras.preprocessing import image\n",
    "import numpy as np\n",
    "import matplotlib.pyplot as plt"
   ]
  },
  {
   "cell_type": "markdown",
   "metadata": {},
   "source": [
    "Read Image path to the test images"
   ]
  },
  {
   "cell_type": "code",
   "execution_count": null,
   "metadata": {},
   "outputs": [],
   "source": [
    "#Relative path to the test images in the \"Test\" folder\n",
    "img_path = '../Data/Test/Large/Crack__20180419_13_29_14,846.bmp' \n",
    "img_path_2 = \"../Data/Test/Medium/Crack__20180419_06_19_09,915.bmp\"\n",
    "\n",
    "#Predefined Class label messages and labels\n",
    "classlabelmsgs = ['A large crack is present in the image','A medium crack is present in the image',\n",
    "                  'No crack is present in the image','A small crack is present in the image']\n",
    "classlabels = ['Large','Medium','None','Small']\n",
    "\n",
    "#Load model from the saved model path\n",
    "model_path = ??? # The path of the saved (trained) model\n",
    "model = load_model(model_path)"
   ]
  },
  {
   "cell_type": "markdown",
   "metadata": {},
   "source": [
    "Helper Functions"
   ]
  },
  {
   "cell_type": "code",
   "execution_count": null,
   "metadata": {},
   "outputs": [],
   "source": [
    "#Image transformer\n",
    "def img_transformer(img_path):\n",
    "    img_width, img_height = 100, 100 #Establish image size\n",
    "    img = image.load_img((img_path), target_size=(img_width, img_height)) #Adjust image size to target size\n",
    "    x = image.img_to_array(img) #Convert image to an array\n",
    "    x = x / 255 #Apply scaling to the image array\n",
    "    x = np.expand_dims(x, axis=0)\n",
    "    new_image = np.vstack([x])\n",
    "    return new_image\n",
    "\n",
    "#Predict the classes of the image\n",
    "class_probs = ???      #Predict based on the image transformed in the function above\n",
    "class_probs *= 100\n",
    "\n",
    "#Function that takes the maximum predicted value's location from the prediction model \n",
    "def pred_class_label(class_probs):\n",
    "    if class_probs.max() == class_probs[0][0]:\n",
    "        return classlabelmsgs[0],classlabels[0]\n",
    "    elif class_probs.max() == class_probs[0][1]:\n",
    "        return classlabelmsgs[1],classlabels[1]\n",
    "    elif class_probs.max() == class_probs[0][2]:\n",
    "        return classlabelmsgs[2],classlabels[2]\n",
    "    else:\n",
    "        return classlabelmsgs[3],classlabels[3]\n",
    "\n",
    "#Function to retrieve the true class label from the image path\n",
    "def true_class_label(img_path):\n",
    "    for i in img_path.split('/'): #Splits the image path based on \"/\"\n",
    "        if i in classlabels: #Checks if class label is in the array of class labels\n",
    "            return i"
   ]
  },
  {
   "cell_type": "markdown",
   "metadata": {},
   "source": [
    "Load Image and Display Predictions"
   ]
  },
  {
   "cell_type": "code",
   "execution_count": null,
   "metadata": {},
   "outputs": [],
   "source": [
    "#Create strings for each of the categories and their corresponding array locations\n",
    "large_crack_prob_str = str(np.around(class_probs[0][0], decimals = 1)) +'%'\n",
    "medium_crack_prob_str = str(np.around(class_probs[0][1], decimals = 1)) +'%'\n",
    "small_crack_prob_str = str(np.around(class_probs[0][3], decimals = 1)) +'%'\n",
    "no_crack_prob_str = str(np.around(class_probs[0][2], decimals = 1)) +'%'\n",
    "\n",
    "#Read image using cv2\n",
    "img = ???\n",
    "#Text to represent each category and their probabilities\n",
    "textboxstr = \"Large Crack:{0}\\nMedium Crack:{1}\\nSmall Crack:{2}\\nNo Crack:{3}\".format(large_crack_prob_str,\n",
    "                                                                                       medium_crack_prob_str,\n",
    "                                                                                       small_crack_prob_str,\n",
    "                                                                                       no_crack_prob_str)\n",
    "\n",
    "#Create figure to run the \n",
    "fig = plt.figure()\n",
    "ax = fig.add_subplot(111)\n",
    "fig.subplots_adjust(top=0.5)\n",
    "#Set title with the true label and predicted label (Call the true class and predicted class labels)\n",
    "ax.set_title(\"\"\"\\nTrue Crack Classification Label: {0}\n",
    "\\nPredicted Crack Classification Label: {1}\"\"\".format(???)\n",
    "ax.text(0.95, 0.01, textboxstr,\n",
    "        verticalalignment='bottom', horizontalalignment='right',\n",
    "        transform=ax.transAxes,\n",
    "        color='green', fontsize=15)\n",
    "plt.axis(\"off\")\n",
    "plt.imshow(cv2.cvtColor(img, cv2.COLOR_BGR2RGB))\n",
    "plt.show()\n"
   ]
  }
 ],
 "metadata": {
  "language_info": {
   "name": "python"
  },
  "orig_nbformat": 4
 },
 "nbformat": 4,
 "nbformat_minor": 2
}
